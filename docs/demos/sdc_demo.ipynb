{
 "cells": [
  {
   "cell_type": "markdown",
   "metadata": {},
   "source": [
    "*****\n",
    "# Intel® Scalable Dataframe Compiler\n",
    "*****"
   ]
  },
  {
   "cell_type": "markdown",
   "metadata": {},
   "source": [
    "### A compiler-based framework for big data in Python  \n",
    "Intel® Scalable Dataframe Compiler (Intel® SDC) scales analytics/ML codes in Python to bare-metal cluster/cloud performance automatically. It compiles a subset of Python (Pandas/Numpy) to efficient parallel binaries with MPI, requiring only minimal code changes\n",
    "*****"
   ]
  },
  {
   "cell_type": "markdown",
   "metadata": {},
   "source": [
    "## Installing"
   ]
  },
  {
   "cell_type": "markdown",
   "metadata": {},
   "source": [
    "*Installing Binary Packages (conda)*  \n",
    "`conda install -c intel -c intel/label/test sdc`"
   ]
  },
  {
   "cell_type": "markdown",
   "metadata": {},
   "source": [
    "SDC advances numba in two dimensions:\n",
    "\n",
    "1. Support for pandas dataframes and operations  \n",
    "2. Scaling out to a cluster using MPI"
   ]
  },
  {
   "cell_type": "markdown",
   "metadata": {},
   "source": [
    "## Machine Learning Problem Statement"
   ]
  },
  {
   "cell_type": "markdown",
   "metadata": {},
   "source": [
    "The notebook below has been made to demonstrate sdc and daal4py in a data science context. It applies a Cycling Dataset from a social fitness network, and attempts to create a linear regression model from the 5 features collected for telemetry to predict the user's Power output in the absence of a power meter  "
   ]
  },
  {
   "cell_type": "code",
   "execution_count": 1,
   "metadata": {},
   "outputs": [],
   "source": [
    "import numba\n",
    "\n",
    "import pandas as pd\n",
    "import numpy as np\n",
    "import time\n",
    "import matplotlib.pyplot as plt\n",
    "%matplotlib inline\n",
    "\n",
    "import warnings\n",
    "warnings.filterwarnings('ignore')\n"
   ]
  },
  {
   "cell_type": "markdown",
   "metadata": {},
   "source": [
    "## Load and Prepare the data"
   ]
  },
  {
   "cell_type": "code",
   "execution_count": 4,
   "metadata": {},
   "outputs": [],
   "source": [
    "@numba.jit\n",
    "def read_from_parquet():\n",
    "    filename = 'cycling_dataset.pq'\n",
    "    df = pd.read_parquet(filename)\n",
    "    return df"
   ]
  },
  {
   "cell_type": "code",
   "execution_count": 5,
   "metadata": {},
   "outputs": [
    {
     "name": "stdout",
     "output_type": "stream",
     "text": [
      "(1000000, 9)\n"
     ]
    }
   ],
   "source": [
    "df = read_from_parquet()\n",
    "print(df.shape)"
   ]
  },
  {
   "cell_type": "code",
   "execution_count": 4,
   "metadata": {},
   "outputs": [
    {
     "data": {
      "text/html": [
       "<div>\n",
       "<style scoped>\n",
       "    .dataframe tbody tr th:only-of-type {\n",
       "        vertical-align: middle;\n",
       "    }\n",
       "\n",
       "    .dataframe tbody tr th {\n",
       "        vertical-align: top;\n",
       "    }\n",
       "\n",
       "    .dataframe thead th {\n",
       "        text-align: right;\n",
       "    }\n",
       "</style>\n",
       "<table border=\"1\" class=\"dataframe\">\n",
       "  <thead>\n",
       "    <tr style=\"text-align: right;\">\n",
       "      <th></th>\n",
       "      <th>altitude</th>\n",
       "      <th>cadence</th>\n",
       "      <th>distance</th>\n",
       "      <th>hr</th>\n",
       "      <th>latitude</th>\n",
       "      <th>longitude</th>\n",
       "      <th>power</th>\n",
       "      <th>speed</th>\n",
       "      <th>time</th>\n",
       "    </tr>\n",
       "  </thead>\n",
       "  <tbody>\n",
       "    <tr>\n",
       "      <th>0</th>\n",
       "      <td>185.800003</td>\n",
       "      <td>51</td>\n",
       "      <td>3.46</td>\n",
       "      <td>81</td>\n",
       "      <td>30.313309</td>\n",
       "      <td>-97.732711</td>\n",
       "      <td>45</td>\n",
       "      <td>3.459</td>\n",
       "      <td>2016-10-20 22:01:26</td>\n",
       "    </tr>\n",
       "    <tr>\n",
       "      <th>1</th>\n",
       "      <td>185.800003</td>\n",
       "      <td>68</td>\n",
       "      <td>7.17</td>\n",
       "      <td>82</td>\n",
       "      <td>30.313277</td>\n",
       "      <td>-97.732715</td>\n",
       "      <td>0</td>\n",
       "      <td>3.710</td>\n",
       "      <td>2016-10-20 22:01:27</td>\n",
       "    </tr>\n",
       "    <tr>\n",
       "      <th>2</th>\n",
       "      <td>186.399994</td>\n",
       "      <td>38</td>\n",
       "      <td>11.04</td>\n",
       "      <td>82</td>\n",
       "      <td>30.313243</td>\n",
       "      <td>-97.732717</td>\n",
       "      <td>42</td>\n",
       "      <td>3.874</td>\n",
       "      <td>2016-10-20 22:01:28</td>\n",
       "    </tr>\n",
       "    <tr>\n",
       "      <th>3</th>\n",
       "      <td>186.800003</td>\n",
       "      <td>38</td>\n",
       "      <td>15.18</td>\n",
       "      <td>83</td>\n",
       "      <td>30.313212</td>\n",
       "      <td>-97.732720</td>\n",
       "      <td>5</td>\n",
       "      <td>4.135</td>\n",
       "      <td>2016-10-20 22:01:29</td>\n",
       "    </tr>\n",
       "    <tr>\n",
       "      <th>4</th>\n",
       "      <td>186.600006</td>\n",
       "      <td>38</td>\n",
       "      <td>19.43</td>\n",
       "      <td>83</td>\n",
       "      <td>30.313172</td>\n",
       "      <td>-97.732723</td>\n",
       "      <td>1</td>\n",
       "      <td>4.250</td>\n",
       "      <td>2016-10-20 22:01:30</td>\n",
       "    </tr>\n",
       "  </tbody>\n",
       "</table>\n",
       "</div>"
      ],
      "text/plain": [
       "     altitude  cadence  distance  hr   latitude  longitude  power  speed  \\\n",
       "0  185.800003       51      3.46  81  30.313309 -97.732711     45  3.459   \n",
       "1  185.800003       68      7.17  82  30.313277 -97.732715      0  3.710   \n",
       "2  186.399994       38     11.04  82  30.313243 -97.732717     42  3.874   \n",
       "3  186.800003       38     15.18  83  30.313212 -97.732720      5  4.135   \n",
       "4  186.600006       38     19.43  83  30.313172 -97.732723      1  4.250   \n",
       "\n",
       "                  time  \n",
       "0  2016-10-20 22:01:26  \n",
       "1  2016-10-20 22:01:27  \n",
       "2  2016-10-20 22:01:28  \n",
       "3  2016-10-20 22:01:29  \n",
       "4  2016-10-20 22:01:30  "
      ]
     },
     "execution_count": 4,
     "metadata": {},
     "output_type": "execute_result"
    }
   ],
   "source": [
    "df.head()"
   ]
  },
  {
   "cell_type": "markdown",
   "metadata": {},
   "source": [
    "## Performance of dataset loading from parquet"
   ]
  },
  {
   "cell_type": "code",
   "execution_count": 2,
   "metadata": {},
   "outputs": [
    {
     "data": {
      "image/png": "[encoded data removed]",
      "text/plain": [
       "<Figure size 1152x576 with 1 Axes>"
      ]
     },
     "metadata": {
      "needs_background": "light"
     },
     "output_type": "display_data"
    }
   ],
   "source": [
    "from plotting import Plotter\n",
    "\n",
    "pl = Plotter()\n",
    "pl.plot_performance()"
   ]
  },
  {
   "cell_type": "code",
   "execution_count": 5,
   "metadata": {},
   "outputs": [],
   "source": [
    "@numba.jit\n",
    "def read_from_csv():\n",
    "    filename = 'cycling_dataset_2.csv'\n",
    "    # Currrently we need to provide column names and their types\n",
    "    names = ['altitude', 'cadence', 'distance', 'hr', 'latitude', 'longitude', 'power', 'speed', 'time']\n",
    "    dtypes = {\n",
    "        'altitude': np.float64,\n",
    "        'cadence': np.float64,\n",
    "        'distance': np.float64,\n",
    "        'hr': np.float64,\n",
    "        'latitude': np.float64,\n",
    "        'longitude': np.float64,\n",
    "        'power': np.float64,\n",
    "        'speed': np.float64,\n",
    "        'time': str\n",
    "    }\n",
    "    df = pd.read_csv(filename, names=names, dtype=dtypes, skiprows=1)\n",
    "    return df"
   ]
  },
  {
   "cell_type": "code",
   "execution_count": 6,
   "metadata": {},
   "outputs": [
    {
     "data": {
      "text/html": [
       "<div>\n",
       "<style scoped>\n",
       "    .dataframe tbody tr th:only-of-type {\n",
       "        vertical-align: middle;\n",
       "    }\n",
       "\n",
       "    .dataframe tbody tr th {\n",
       "        vertical-align: top;\n",
       "    }\n",
       "\n",
       "    .dataframe thead th {\n",
       "        text-align: right;\n",
       "    }\n",
       "</style>\n",
       "<table border=\"1\" class=\"dataframe\">\n",
       "  <thead>\n",
       "    <tr style=\"text-align: right;\">\n",
       "      <th></th>\n",
       "      <th>altitude</th>\n",
       "      <th>cadence</th>\n",
       "      <th>distance</th>\n",
       "      <th>hr</th>\n",
       "      <th>latitude</th>\n",
       "      <th>longitude</th>\n",
       "      <th>power</th>\n",
       "      <th>speed</th>\n",
       "      <th>time</th>\n",
       "    </tr>\n",
       "  </thead>\n",
       "  <tbody>\n",
       "    <tr>\n",
       "      <th>0</th>\n",
       "      <td>1.0</td>\n",
       "      <td>1.0</td>\n",
       "      <td>185.800003</td>\n",
       "      <td>68.0</td>\n",
       "      <td>7.170000</td>\n",
       "      <td>82.0</td>\n",
       "      <td>30.313277</td>\n",
       "      <td>-97.732715</td>\n",
       "      <td>0</td>\n",
       "    </tr>\n",
       "    <tr>\n",
       "      <th>1</th>\n",
       "      <td>2.0</td>\n",
       "      <td>2.0</td>\n",
       "      <td>186.399994</td>\n",
       "      <td>38.0</td>\n",
       "      <td>11.040000</td>\n",
       "      <td>82.0</td>\n",
       "      <td>30.313243</td>\n",
       "      <td>-97.732717</td>\n",
       "      <td>42</td>\n",
       "    </tr>\n",
       "    <tr>\n",
       "      <th>2</th>\n",
       "      <td>3.0</td>\n",
       "      <td>3.0</td>\n",
       "      <td>186.800003</td>\n",
       "      <td>38.0</td>\n",
       "      <td>15.180000</td>\n",
       "      <td>83.0</td>\n",
       "      <td>30.313212</td>\n",
       "      <td>-97.732720</td>\n",
       "      <td>5</td>\n",
       "    </tr>\n",
       "    <tr>\n",
       "      <th>3</th>\n",
       "      <td>4.0</td>\n",
       "      <td>4.0</td>\n",
       "      <td>186.600006</td>\n",
       "      <td>38.0</td>\n",
       "      <td>19.430000</td>\n",
       "      <td>83.0</td>\n",
       "      <td>30.313172</td>\n",
       "      <td>-97.732723</td>\n",
       "      <td>1</td>\n",
       "    </tr>\n",
       "    <tr>\n",
       "      <th>4</th>\n",
       "      <td>5.0</td>\n",
       "      <td>5.0</td>\n",
       "      <td>186.600006</td>\n",
       "      <td>0.0</td>\n",
       "      <td>23.860001</td>\n",
       "      <td>84.0</td>\n",
       "      <td>30.313130</td>\n",
       "      <td>-97.732724</td>\n",
       "      <td>0</td>\n",
       "    </tr>\n",
       "  </tbody>\n",
       "</table>\n",
       "</div>"
      ],
      "text/plain": [
       "   altitude  cadence    distance    hr   latitude  longitude      power  \\\n",
       "0       1.0      1.0  185.800003  68.0   7.170000       82.0  30.313277   \n",
       "1       2.0      2.0  186.399994  38.0  11.040000       82.0  30.313243   \n",
       "2       3.0      3.0  186.800003  38.0  15.180000       83.0  30.313212   \n",
       "3       4.0      4.0  186.600006  38.0  19.430000       83.0  30.313172   \n",
       "4       5.0      5.0  186.600006   0.0  23.860001       84.0  30.313130   \n",
       "\n",
       "       speed time  \n",
       "0 -97.732715    0  \n",
       "1 -97.732717   42  \n",
       "2 -97.732720    5  \n",
       "3 -97.732723    1  \n",
       "4 -97.732724    0  "
      ]
     },
     "execution_count": 6,
     "metadata": {},
     "output_type": "execute_result"
    }
   ],
   "source": [
    "df = read_from_csv()\n",
    "df.head()"
   ]
  },
  {
   "cell_type": "markdown",
   "metadata": {},
   "source": [
    "**Try it with MPI: run on 4 processes**  \n",
    "`%save -f runme.py ??\n",
    "!mpirun -n 4 python ./runme.py`"
   ]
  },
  {
   "cell_type": "markdown",
   "metadata": {},
   "source": [
    "## Performance of dataset loading from csv: MPI parallelization"
   ]
  },
  {
   "cell_type": "code",
   "execution_count": 3,
   "metadata": {},
   "outputs": [
    {
     "data": {
      "image/png": "[encoded data removed]",
      "text/plain": [
       "<Figure size 1152x576 with 1 Axes>"
      ]
     },
     "metadata": {
      "needs_background": "light"
     },
     "output_type": "display_data"
    }
   ],
   "source": [
    "from plotting import Plotter\n",
    "\n",
    "pl = Plotter('read_csv')\n",
    "pl.plot_performance()"
   ]
  },
  {
   "cell_type": "markdown",
   "metadata": {},
   "source": [
    "## Performance of dataframe.describe()"
   ]
  },
  {
   "cell_type": "code",
   "execution_count": 28,
   "metadata": {},
   "outputs": [],
   "source": [
    "@numba.jit\n",
    "def data_describe(df):\n",
    "    # Drop not numerical values from dataframe\n",
    "    df = df[['altitude', 'cadence', 'cadence', 'distance', 'hr', 'latitude', 'longitude', 'power', 'speed']]\n",
    "    result = df.describe()\n",
    "    return result"
   ]
  },
  {
   "cell_type": "code",
   "execution_count": 4,
   "metadata": {},
   "outputs": [
    {
     "data": {
      "image/png": "[encoded data removed]",
      "text/plain": [
       "<Figure size 1152x576 with 1 Axes>"
      ]
     },
     "metadata": {
      "needs_background": "light"
     },
     "output_type": "display_data"
    }
   ],
   "source": [
    "from performance import Plotter\n",
    "\n",
    "pl = Plotter('describe')\n",
    "pl.plot_performance()"
   ]
  },
  {
   "cell_type": "code",
   "execution_count": 20,
   "metadata": {},
   "outputs": [],
   "source": [
    "def groupby_operation(df):\n",
    "    start = time.time()\n",
    "    grp = df.groupby('power')\n",
    "    mean = grp['speed'].mean()\n",
    "    end = time.time() - start\n",
    "    return mean, end"
   ]
  },
  {
   "cell_type": "code",
   "execution_count": 21,
   "metadata": {},
   "outputs": [
    {
     "name": "stdout",
     "output_type": "stream",
     "text": [
      "TIME python:  0.05549812316894531\n",
      "TIME SDC:  0.10742287183529697\n"
     ]
    }
   ],
   "source": [
    "sdc_groupby = numba.jit(groupby_operation)\n",
    "_, t = groupby_operation(df)\n",
    "_, sdc_t = sdc_groupby(df)\n",
    "\n",
    "print(\"TIME python: \", t)\n",
    "print(\"TIME SDC: \", sdc_t)"
   ]
  },
  {
   "cell_type": "markdown",
   "metadata": {},
   "source": [
    "## Split the data"
   ]
  },
  {
   "cell_type": "code",
   "execution_count": 29,
   "metadata": {},
   "outputs": [],
   "source": [
    "def data_split(df):\n",
    "    start = time.time()\n",
    "    # Remove entries where power==0\n",
    "    train = df.drop('time', axis=1)\n",
    "    train = df[df.power!=0]\n",
    "    # Reduce the dataset, create X.  We drop the target, and other non-essential features\n",
    "    reduced_train = train.drop(['time','power','latitude','longitude'], axis=1)\n",
    "    # Get the target, create Y as an 2d array of float64\n",
    "    target = train.power.values.reshape(len(train),1).astype(np.float64)\n",
    "    end = time.time() - start\n",
    "    \n",
    "    return reduced_train, target, end"
   ]
  },
  {
   "cell_type": "code",
   "execution_count": 30,
   "metadata": {},
   "outputs": [
    {
     "name": "stdout",
     "output_type": "stream",
     "text": [
      "TIME python:  0.8920345306396484\n",
      "TIME SDC:  0.6088883920165244\n"
     ]
    }
   ],
   "source": [
    "sdc_split = numba.jit(data_split)\n",
    "train, target, t = data_split(df)\n",
    "sdc_train, sdc_target, sdc_t = sdc_split(df)\n",
    "\n",
    "print(\"TIME python: \", t)\n",
    "print(\"TIME SDC: \", sdc_t)"
   ]
  },
  {
   "cell_type": "markdown",
   "metadata": {},
   "source": [
    "## Train the model"
   ]
  },
  {
   "cell_type": "markdown",
   "metadata": {},
   "source": [
    "After the data was previously processed it can be passed to the ML model input.  \n",
    "The following code trains a model to predict the power output."
   ]
  },
  {
   "cell_type": "code",
   "execution_count": 31,
   "metadata": {},
   "outputs": [],
   "source": [
    "import daal4py as d4p"
   ]
  },
  {
   "cell_type": "code",
   "execution_count": 32,
   "metadata": {},
   "outputs": [],
   "source": [
    "# Create a linear regression algorithm object\n",
    "d4p_lm = d4p.linear_regression_training(interceptFlag=True)\n",
    "# Train the model\n",
    "lm_trained = d4p_lm.compute(sdc_train.values, sdc_target)"
   ]
  },
  {
   "cell_type": "code",
   "execution_count": 33,
   "metadata": {},
   "outputs": [
    {
     "name": "stdout",
     "output_type": "stream",
     "text": [
      "Model has this number of features:  5\n"
     ]
    }
   ],
   "source": [
    "print(\"Model has this number of features: \", lm_trained.model.NumberOfFeatures)"
   ]
  },
  {
   "cell_type": "markdown",
   "metadata": {},
   "source": [
    "## Predict"
   ]
  },
  {
   "cell_type": "code",
   "execution_count": 37,
   "metadata": {},
   "outputs": [],
   "source": [
    "def predict(model):\n",
    "    test_set = pd.read_parquet('cycling_test_dataset.pq')\n",
    "    test_set = test_set[test_set.power!=0]\n",
    "    subset = test_set.drop(['time','power','latitude','longitude'], axis=1)\n",
    "    # create our prediction algorithm object\n",
    "    lm_predictor = d4p.linear_regression_prediction()\n",
    "    # Now run prediction. The arguments use the independent data and the trained model from above as the parameters.\n",
    "    result = lm_predictor.compute(subset.values, model)\n",
    "    \n",
    "    return result"
   ]
  },
  {
   "cell_type": "code",
   "execution_count": 38,
   "metadata": {},
   "outputs": [],
   "source": [
    "pred_result = predict(lm_trained.model)"
   ]
  },
  {
   "cell_type": "code",
   "execution_count": 39,
   "metadata": {},
   "outputs": [
    {
     "data": {
      "image/png": "[encoded data removed]",
      "text/plain": [
       "<Figure size 432x288 with 1 Axes>"
      ]
     },
     "metadata": {
      "needs_background": "light"
     },
     "output_type": "display_data"
    }
   ],
   "source": [
    "test_set = pd.read_parquet('cycling_test_dataset.pq')\n",
    "test_set = test_set[test_set.power!=0]\n",
    "plt.plot(pred_result.prediction[0:300])\n",
    "plt.plot(test_set.power.values[0:300])\n",
    "plt.show()"
   ]
  }
 ],
 "metadata": {
  "kernelspec": {
   "display_name": "Python 3",
   "language": "python",
   "name": "python3"
  },
  "language_info": {
   "codemirror_mode": {
    "name": "ipython",
    "version": 3
   },
   "file_extension": ".py",
   "mimetype": "text/x-python",
   "name": "python",
   "nbconvert_exporter": "python",
   "pygments_lexer": "ipython3",
   "version": "3.7.4"
  }
 },
 "nbformat": 4,
 "nbformat_minor": 2
}
